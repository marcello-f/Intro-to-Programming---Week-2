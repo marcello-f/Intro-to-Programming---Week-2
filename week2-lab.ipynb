{
 "cells": [
  {
   "cell_type": "markdown",
   "metadata": {
    "scrolled": true
   },
   "source": [
    "## Exercises on number manipulation"
   ]
  },
  {
   "cell_type": "markdown",
   "metadata": {},
   "source": [
    "Don't forget to import modules when needed. It's best to use `numpy` instead of `math`. Nearly everything in `math` is also in `numpy`, but `numpy` is more versatile. For example, `math.exp()` does not allow complex numbers, but `numpy.exp()` does."
   ]
  },
  {
   "cell_type": "code",
   "execution_count": 1,
   "metadata": {},
   "outputs": [],
   "source": [
    "import numpy as np"
   ]
  },
  {
   "cell_type": "markdown",
   "metadata": {},
   "source": [
    "### Exercise 1: Compute $\\exp(i\\pi)$."
   ]
  },
  {
   "cell_type": "code",
   "execution_count": 2,
   "metadata": {},
   "outputs": [
    {
     "data": {
      "text/plain": [
       "(-1+1.2246467991473532e-16j)"
      ]
     },
     "execution_count": 2,
     "metadata": {},
     "output_type": "execute_result"
    }
   ],
   "source": [
    "np.exp(1j*np.pi)"
   ]
  },
  {
   "cell_type": "markdown",
   "metadata": {},
   "source": [
    "### Computing numerical Approximations to Numbers and Functions"
   ]
  },
  {
   "cell_type": "markdown",
   "metadata": {},
   "source": [
    "In what follows we will use Python to numerically compute approximations given by finite truncations of infinite series or product expansions, or infinite continued fractions. As an example, I will numerically evaluate the [Taylor Series](http://en.wikipedia.org/wiki/Taylor_series) of $1/(1-x)$, which is given by the geometric series\n",
    "$$1/(1-x)=\\sum_{k=0}^\\infty x^k=1+x+x^2+x^3+\\ldots\\;.$$\n",
    "This series converges for $|x|<1$."
   ]
  },
  {
   "cell_type": "markdown",
   "metadata": {},
   "source": [
    "To compute the Taylor polynomials of degree $5$ and $6$, we need to evaluate $1+x+x^2+x^3+x^4+x^5$ and $1+x+x^2+x^3+x^4+x^5+x^6$ at $x=1/2$. This should be a good approximation to $1/(1-1/2)=2$, which we can compare the result to."
   ]
  },
  {
   "cell_type": "code",
   "execution_count": 3,
   "metadata": {},
   "outputs": [
    {
     "name": "stdout",
     "output_type": "stream",
     "text": [
      "1.96875\n",
      "1.984375\n",
      "2\n"
     ]
    }
   ],
   "source": [
    "print(1+1/2+(1/2)**2+(1/2)**3+(1/2)**4+(1/2)**5)\n",
    "print(1+1/2+(1/2)**2+(1/2)**3+(1/2)**4+(1/2)**5+(1/2)**6)\n",
    "print(2)"
   ]
  },
  {
   "cell_type": "markdown",
   "metadata": {},
   "source": [
    "Using our knowledge of graphical plotting routines from the last exercise sheet, we can also visualise that Taylor polynomials of larger order give better approximations, as long as $|x|<1$."
   ]
  },
  {
   "cell_type": "code",
   "execution_count": 4,
   "metadata": {},
   "outputs": [
    {
     "data": {
      "image/png": "[encoded data removed]",
      "text/plain": [
       "<Figure size 432x288 with 1 Axes>"
      ]
     },
     "metadata": {
      "needs_background": "light"
     },
     "output_type": "display_data"
    }
   ],
   "source": [
    "import matplotlib.pyplot as plt\n",
    "x = np.linspace(-1.1, 1.1, 100)\n",
    "plt.plot(x,1+x+x**2+x**3+x**4,label='degree 4')\n",
    "plt.plot(x,1+x+x**2+x**3+x**4+x**5,label='degree 5')\n",
    "plt.plot(x,1+x+x**2+x**3+x**4+x**5+x**6,label='degree 6')\n",
    "plt.plot(x,1/(1-x),color='black',label='1/(1-x)')\n",
    "plt.ylim([-2,6])\n",
    "plt.xlabel('x')\n",
    "plt.ylabel('y')\n",
    "plt.title('Taylor polynomial approximations to 1/(1-x)')\n",
    "plt.legend()\n",
    "plt.show()"
   ]
  },
  {
   "cell_type": "markdown",
   "metadata": {},
   "source": [
    "### Exercise 2: Compute a Taylor Series"
   ]
  },
  {
   "cell_type": "markdown",
   "metadata": {},
   "source": [
    "The Taylor Series of $\\exp x$ is given by \n",
    "$$\\exp x=\\sum_{k=0}^\\infty\\frac{x^k}{k!}\\;.$$\n",
    "Compute the Taylor polynomials of degree $5$, $6$, and $7$ evaluated at $x=1.5$, and compare the result with $\\exp(1.5)$.\n",
    "\n",
    "Remember that you can use print() to print several results within the same code box."
   ]
  },
  {
   "cell_type": "code",
   "execution_count": 5,
   "metadata": {},
   "outputs": [
    {
     "name": "stdout",
     "output_type": "stream",
     "text": [
      "At degree 5: 4.46171875\n",
      "\n",
      "At degree 6: 4.4775390625\n",
      "\n",
      "At degree 7: 4.480929129464286\n",
      "\n",
      "exp(1.5): 4.4816890703380645\n"
     ]
    }
   ],
   "source": [
    "import math\n",
    "sum_5 = 0\n",
    "sum_6 = 0\n",
    "sum_7 = 0\n",
    "\n",
    "for k in range(0,6):\n",
    "    d = (1.5**k)/math.factorial(k)\n",
    "    sum_5 = sum_5 + d\n",
    "print(f'At degree 5: {sum_5}\\n')\n",
    "\n",
    "for k in range(0,7):\n",
    "    d = (1.5**k)/math.factorial(k)\n",
    "    sum_6 = sum_6 + d\n",
    "print(f'At degree 6: {sum_6}\\n')\n",
    "\n",
    "for k in range(0,8):\n",
    "    d = (1.5**k)/math.factorial(k)\n",
    "    sum_7 = sum_7 + d\n",
    "print(f'At degree 7: {sum_7}\\n')\n",
    "\n",
    "print('exp(1.5): ' + str(np.exp(1.5)))"
   ]
  },
  {
   "cell_type": "markdown",
   "metadata": {},
   "source": [
    "For small values of $k$, you can compute $k!$ in your head and enter the result directly into Python. However, Python also provides `math.factorial()` to do it for you (this function is not included in `numpy`). If you need to use `math.factorial()` several times in a formula, the expression becomes quite complicated. So it is helpful to assign `fac=math.factorial`. Do this, and compute $10!$ and $20!$ using `fac(10)` and `fac(20)`."
   ]
  },
  {
   "cell_type": "code",
   "execution_count": 6,
   "metadata": {},
   "outputs": [
    {
     "name": "stdout",
     "output_type": "stream",
     "text": [
      "3628800\n",
      "2432902008176640000\n"
     ]
    }
   ],
   "source": [
    "fac=math.factorial\n",
    "print(fac(10))\n",
    "print(fac(20))"
   ]
  },
  {
   "cell_type": "markdown",
   "metadata": {},
   "source": [
    "Using the factorial function, compute the Taylor polynomials of degree $8$, $9$, and $10$ evaluated at $x=1.5$, $x=2.5$, and $x=1+i$ and compare with the result from the infinite sum. To save you typing, and to make the code more readable, you should assign the value of $x$ using an assignment like `x=1.5`. Remember that you can use `print()` to print several results within the same code box."
   ]
  },
  {
   "cell_type": "code",
   "execution_count": 7,
   "metadata": {},
   "outputs": [
    {
     "name": "stdout",
     "output_type": "stream",
     "text": [
      "x = 1.5 at degree 8: 4.48156476702009\n",
      "x = 1.5 at degree 9: 4.481670706612723\n",
      "x = 1.5 at degree 10: 4.481686597551619\n",
      "exp(1.5): 4.4816890703380645\n",
      "\n",
      "x = 2.5 at degree 8: 12.168602837456596\n",
      "x = 2.5 at degree 9: 12.179115120485767\n",
      "x = 2.5 at degree 10: 12.18174319124306\n",
      "exp(2.5): 12.182493960703473\n",
      "\n",
      "x = (1+1j) at degree 8: (1.4686507936507935+2.2873015873015876j)\n",
      "x = (1+1j) at degree 9: (1.468694885361552+2.287345679012346j)\n",
      "x = (1+1j) at degree 10: (1.468694885361552+2.2873544973544977j)\n",
      "exp((1+1j)): (1.4686939399158851+2.2873552871788423j)\n",
      "\n"
     ]
    }
   ],
   "source": [
    "for x in [1.5, 2.5 ,1+1j]:\n",
    "    sum_8 = 0\n",
    "    sum_9 = 0\n",
    "    sum_10 = 0\n",
    "    \n",
    "    for k in range(0,9):\n",
    "        d = (x**k)/fac(k)\n",
    "        sum_8 = sum_8 + d\n",
    "    print(f'x = {x} at degree 8: {sum_8}')\n",
    "\n",
    "    for k in range(0,10):\n",
    "        d = (x**k)/fac(k)\n",
    "        sum_9 = sum_9 + d\n",
    "    print(f'x = {x} at degree 9: {sum_9}')\n",
    "\n",
    "    for k in range(0,11):\n",
    "        d = (x**k)/fac(k)\n",
    "        sum_10 = sum_10 + d\n",
    "    print(f'x = {x} at degree 10: {sum_10}')\n",
    "\n",
    "    print(f'exp({x}): ' + str(np.exp(x)) + '\\n')"
   ]
  },
  {
   "cell_type": "markdown",
   "metadata": {},
   "source": [
    "### Exercise 3: Compute the Riemann Zeta Function"
   ]
  },
  {
   "cell_type": "markdown",
   "metadata": {},
   "source": [
    "The [Riemann zeta function](http://en.wikipedia.org/wiki/Riemann_zeta_function) is given by the infinite series\n",
    "$$\\zeta(s)=\\sum_{n=1}^\\infty\\frac1{n^s}\\;.$$\n",
    "$\\zeta(s)$ also can be expressed as an infinite product over all primes,\n",
    "$$\\zeta(s)=\\prod_p\\left(\\frac1{1-p^{-s}}\\right)\\;,$$\n",
    "where the product is over the primes $p=2,3,5,7,11,13,\\ldots$.\n",
    "\n",
    "Using these expressions, compute both the $6$th partial sum and the $6$th partial product for $s=2$ and $s=4$ (i.e. truncate the infinite sum or product after six terms) and compare to the exact values\n",
    "$$\\zeta(2)=\\frac{\\pi^2}6\\;,\\;\\zeta(4)=\\frac{\\pi^4}{90}\\;.$$"
   ]
  },
  {
   "cell_type": "code",
   "execution_count": 8,
   "metadata": {},
   "outputs": [
    {
     "name": "stdout",
     "output_type": "stream",
     "text": [
      "The partial sum when s = 2 is 1.4913888888888889\n",
      "The partial product when s = 2 is 1.6179176613136572\n",
      "\n",
      "The partial sum when s = 4 is 1.0811235339506173\n",
      "The partial product when s = 4 is 1.0822933039823095\n",
      "\n",
      "The exact value of the Riemann zeta fucntion at s = 2 is: 1.6449340668482264\n",
      "The exact value of the Riemann zeta fucntion at s = 4 is: 1.082323233711138\n"
     ]
    }
   ],
   "source": [
    "for s in [2,4]:\n",
    "    \n",
    "    summation = 0\n",
    "    for n in range(1, 7):\n",
    "        a = 1/(n**s)\n",
    "        summation = summation + a\n",
    "    print(f'The partial sum when s = {s} is {summation}')\n",
    "    \n",
    "    \n",
    "    product = 1/(1-2**(-s))\n",
    "    for p in [3,5,7,11,13]:\n",
    "        b = 1 / (1-p**(-s))\n",
    "        product = product * b\n",
    "    print(f'The partial product when s = {s} is {product}\\n')\n",
    "    \n",
    "print('The exact value of the Riemann zeta fucntion at s = 2 is: ' + str((math.pi**2)/6))\n",
    "print('The exact value of the Riemann zeta fucntion at s = 4 is: ' + str((math.pi**4)/90))"
   ]
  },
  {
   "cell_type": "markdown",
   "metadata": {},
   "source": [
    "While you may have developed some feeling for infinite series during your studies, infinite products will still feel quite daunting. So I suggest you plot partial products with $4$, $5$, and $6$ factors, and compare to the plot of the Riemann zeta function. This function can be imported from the module `scipy`. I suggest using the code\n",
    "\n",
    "`import scipy.special\n",
    "zeta=scipy.special.zeta`\n",
    "\n",
    "For the plot, I suggest an $x$-range of $[1,5]$ and a $y$-range of $[1,5]$"
   ]
  },
  {
   "cell_type": "code",
   "execution_count": 20,
   "metadata": {},
   "outputs": [
    {
     "data": {
      "image/png": "[encoded data removed]",
      "text/plain": [
       "<Figure size 432x288 with 1 Axes>"
      ]
     },
     "metadata": {
      "needs_background": "light"
     },
     "output_type": "display_data"
    }
   ],
   "source": [
    "import matplotlib.pyplot as plt\n",
    "import scipy.special\n",
    "zeta=scipy.special.zeta\n",
    "\n",
    "partial_4 = (1 / (1-2**(-x)))*(1 / (1-3**(-x)))*(1 / (1-5**(-x)))*(1 / (1-7**(-x)))\n",
    "partial_5 = (1 / (1-2**(-x)))*(1 / (1-3**(-x)))*(1 / (1-5**(-x)))*(1 / (1-7**(-x)))*(1 / (1-11**(-x)))\n",
    "partial_6 = (1 / (1-2**(-x)))*(1 / (1-3**(-x)))*(1 / (1-5**(-x)))*(1 / (1-7**(-x)))*(1 / (1-7**(-x)))*(1 / (1-13**(-x)))\n",
    "\n",
    "\n",
    "x = np.linspace(1, 5, 100)\n",
    "plt.plot(x, partial_4,label='4 factors')\n",
    "plt.plot(x, partial_5,label='5 factors')\n",
    "plt.plot(x, partial_6,label='6 factors')\n",
    "plt.plot(x,zeta(x),color='black',label='Zeta')\n",
    "plt.ylim([1,5])\n",
    "plt.xlabel('x')\n",
    "plt.ylabel('y')\n",
    "plt.title('Riemann Zeta Function approximaitons')\n",
    "plt.legend()\n",
    "plt.show()"
   ]
  },
  {
   "cell_type": "markdown",
   "metadata": {},
   "source": [
    "### Exercise 4: Continued Fraction"
   ]
  },
  {
   "cell_type": "markdown",
   "metadata": {},
   "source": [
    "The golden ratio $\\rho=\\frac{1+\\sqrt5}2$ is given by\n",
    "$$\\rho=1+\\cfrac1{1+\\cfrac1{1+\\cfrac1{1+\\cfrac1{1+\\ldots}}}}\\;.$$\n",
    "To approximate $\\rho$, compute the partial continued fraction\n",
    "$$1+\\cfrac1{1+\\cfrac1{1+\\cfrac1{1+\\cfrac1{1+\\cfrac11}}}}$$\n",
    "and compare with the exact value."
   ]
  },
  {
   "cell_type": "code",
   "execution_count": 10,
   "metadata": {},
   "outputs": [
    {
     "name": "stdout",
     "output_type": "stream",
     "text": [
      "1.5\n",
      "1.6666666666666665\n",
      "1.6\n",
      "1.625\n",
      "1.6153846153846154\n",
      "1.619047619047619\n",
      "1.6176470588235294\n",
      "1.6181818181818182\n",
      "1.6179775280898876\n",
      "1.6180555555555556\n",
      "1.6180257510729614\n",
      "1.6180371352785146\n",
      "1.6180327868852458\n",
      "1.618034447821682\n",
      "1.618033813400125\n",
      "\n",
      "\n",
      "Golden ratio: 1.618033988749895\n"
     ]
    }
   ],
   "source": [
    "p = 1 + 1/1\n",
    "\n",
    "for x in range(15):    #Change range for accuracy\n",
    "    p = 1 + 1/p\n",
    "    print(p)\n",
    "print('\\n')\n",
    "print('Golden ratio: ' + str((1+math.sqrt(5))/2))"
   ]
  },
  {
   "cell_type": "markdown",
   "metadata": {},
   "source": [
    "**Advanced:** Now extend this calculation to estimate\n",
    "$$f(x)=x+\\cfrac1{x+\\cfrac1{x+\\cfrac1{x+\\cfrac1{x+\\ldots}}}}\\;.$$\n",
    "Can you guess what the exact result is for $x=2$ and $x=4$?"
   ]
  },
  {
   "cell_type": "code",
   "execution_count": 11,
   "metadata": {},
   "outputs": [
    {
     "name": "stdout",
     "output_type": "stream",
     "text": [
      "2.4\n",
      "2.4166666666666665\n",
      "2.413793103448276\n",
      "2.414285714285714\n",
      "2.4142011834319526\n",
      "2.4142156862745097\n",
      "2.414213197969543\n",
      "2.41421362489487\n",
      "2.414213551646055\n",
      "2.414213564213564\n",
      "\n",
      "\n",
      "4.235294117647059\n",
      "4.236111111111111\n",
      "4.2360655737704915\n",
      "4.236068111455109\n",
      "4.236067970034716\n",
      "4.236067977915804\n",
      "4.236067977476606\n",
      "4.236067977501082\n",
      "4.236067977499718\n",
      "4.236067977499793\n",
      "\n",
      "\n"
     ]
    }
   ],
   "source": [
    "for x in [2, 4]:\n",
    "    p = x + 1/x\n",
    "    for n in range(10):    #Change range for accuracy\n",
    "        p = x + 1/p\n",
    "        print(p)\n",
    "    print('\\n')"
   ]
  },
  {
   "cell_type": "markdown",
   "metadata": {},
   "source": [
    "We can predict the value at x=2 as 2.41421 and the value at x=4 as 4.2360679."
   ]
  },
  {
   "cell_type": "markdown",
   "metadata": {},
   "source": [
    "## Exercises related to week 2 (sequences)"
   ]
  },
  {
   "cell_type": "markdown",
   "metadata": {},
   "source": [
    "### Exercise 1: Some simple finite sums over the integers\n",
    "\n",
    "In line with the content of the last lecture, we will first construct some simple sequences with the aim of summing these and using this to discover some nice numerical patterns.\n",
    "\n",
    "As an example of what I have in mind, lets construct sequences of the first $n$ odd numbers for various values of $n$. The easiest way is to simply use the range object to create a list with entries starting at $1$ and increasing by $2$ and ending when the entries get larger than $2n-1$.\n"
   ]
  },
  {
   "cell_type": "code",
   "execution_count": 12,
   "metadata": {},
   "outputs": [
    {
     "name": "stdout",
     "output_type": "stream",
     "text": [
      "[1, 3, 5, 7, 9, 11, 13, 15, 17, 19, 21, 23, 25, 27, 29]\n",
      "15\n"
     ]
    }
   ],
   "source": [
    "n=15\n",
    "list1=list(range(1,2*n,2))\n",
    "print(list1)\n",
    "print(len(list1))"
   ]
  },
  {
   "cell_type": "markdown",
   "metadata": {},
   "source": [
    "An alternative is to use list comprehension, which easily generalises to other cases where we have an explicit formula for computing the $k$-th list entry. In this case, using the formula $f(k)=2k+1$ generates the odd numbers $1,3,5,\\ldots$  for $k=0,1,2,\\ldots$."
   ]
  },
  {
   "cell_type": "code",
   "execution_count": 13,
   "metadata": {},
   "outputs": [
    {
     "name": "stdout",
     "output_type": "stream",
     "text": [
      "[1, 3, 5, 7, 9, 11, 13, 15, 17, 19, 21, 23, 25, 27, 29]\n"
     ]
    }
   ],
   "source": [
    "n=15\n",
    "print([2*k+1 for k in range(n)])"
   ]
  },
  {
   "cell_type": "markdown",
   "metadata": {},
   "source": [
    "Now we can add the first $n$ numbers and see if we can find a pattern."
   ]
  },
  {
   "cell_type": "code",
   "execution_count": 14,
   "metadata": {},
   "outputs": [
    {
     "name": "stdout",
     "output_type": "stream",
     "text": [
      "1\n",
      "4\n",
      "9\n",
      "16\n"
     ]
    }
   ],
   "source": [
    "print(sum([2*k+1 for k in range(1)]))\n",
    "print(sum([2*k+1 for k in range(2)]))\n",
    "print(sum([2*k+1 for k in range(3)]))\n",
    "print(sum([2*k+1 for k in range(4)]))"
   ]
  },
  {
   "cell_type": "markdown",
   "metadata": {},
   "source": [
    "This works, but is really cumbersome. How about treating `sum([2*k+1 for k in range(n)])` as a formula for generating another list? **Please make sure you study the next line thoroughly until you really understand what is going on here.** For example, notice that each element of the resulting list is the sum of another list."
   ]
  },
  {
   "cell_type": "code",
   "execution_count": 15,
   "metadata": {},
   "outputs": [
    {
     "name": "stdout",
     "output_type": "stream",
     "text": [
      "[0, 1, 4, 9, 16, 25, 36, 49, 64, 81, 100, 121, 144, 169, 196, 225, 256, 289, 324, 361]\n"
     ]
    }
   ],
   "source": [
    "print([sum([2*k+1 for k in range(n)]) for n in range(20)])"
   ]
  },
  {
   "cell_type": "markdown",
   "metadata": {},
   "source": [
    "Do you recognise a pattern? The numbers in this list are all squares, so we should compare this with a list of the first 20 squares to confirm that we have a match."
   ]
  },
  {
   "cell_type": "code",
   "execution_count": 16,
   "metadata": {},
   "outputs": [
    {
     "name": "stdout",
     "output_type": "stream",
     "text": [
      "[0, 1, 4, 9, 16, 25, 36, 49, 64, 81, 100, 121, 144, 169, 196, 225, 256, 289, 324, 361]\n"
     ]
    }
   ],
   "source": [
    "print([n**2 for n in range(20)])"
   ]
  },
  {
   "cell_type": "markdown",
   "metadata": {},
   "source": [
    "#### Exercise 1.a: Generate a list of the first $n$ numbers of the form $3k(k+1)+1$ for $n=15$ and $n=20$.\n"
   ]
  },
  {
   "cell_type": "code",
   "execution_count": 17,
   "metadata": {},
   "outputs": [
    {
     "name": "stdout",
     "output_type": "stream",
     "text": [
      "[1, 7, 19, 37, 61, 91, 127, 169, 217, 271, 331, 397, 469, 547, 631]\n",
      "[1, 7, 19, 37, 61, 91, 127, 169, 217, 271, 331, 397, 469, 547, 631, 721, 817, 919, 1027, 1141]\n"
     ]
    }
   ],
   "source": [
    "for n in [15,20]:\n",
    "    print([3*k*(k+1) + 1 for k in range(n)])"
   ]
  },
  {
   "cell_type": "markdown",
   "metadata": {},
   "source": [
    "#### Exercise 1.b: Generate a list that contains the sum of the above lists of length $n$ with $n$ ranging from $0$ to $19$.\n",
    "\n",
    "(You will need to have understood the example given above to be able to do this.)"
   ]
  },
  {
   "cell_type": "code",
   "execution_count": 21,
   "metadata": {},
   "outputs": [
    {
     "name": "stdout",
     "output_type": "stream",
     "text": [
      "[0, 1, 8, 27, 64, 125, 216, 343, 512, 729, 1000, 1331, 1728, 2197, 2744, 3375, 4096, 4913, 5832, 6859]\n"
     ]
    }
   ],
   "source": [
    "print([sum([3*k*(k+1) + 1 for k in range(n)]) for n in range(20)])"
   ]
  },
  {
   "cell_type": "markdown",
   "metadata": {},
   "source": [
    "#### Exercise 1.c: Guess an explicit formula and use this to generate this list directly."
   ]
  },
  {
   "cell_type": "code",
   "execution_count": 22,
   "metadata": {
    "scrolled": true
   },
   "outputs": [
    {
     "name": "stdout",
     "output_type": "stream",
     "text": [
      "[0, 1, 8, 27, 64, 125, 216, 343, 512, 729, 1000, 1331, 1728, 2197, 2744, 3375, 4096, 4913, 5832, 6859]\n"
     ]
    }
   ],
   "source": [
    "print([n**3 for n in range(20)])"
   ]
  }
 ],
 "metadata": {
  "kernelspec": {
   "display_name": "Python 3",
   "language": "python",
   "name": "python3"
  },
  "language_info": {
   "codemirror_mode": {
    "name": "ipython",
    "version": 3
   },
   "file_extension": ".py",
   "mimetype": "text/x-python",
   "name": "python",
   "nbconvert_exporter": "python",
   "pygments_lexer": "ipython3",
   "version": "3.8.5"
  }
 },
 "nbformat": 4,
 "nbformat_minor": 2
}
